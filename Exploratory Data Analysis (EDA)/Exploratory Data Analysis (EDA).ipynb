{
 "cells": [
  {
   "cell_type": "markdown",
   "metadata": {},
   "source": [
    "### Drop Columns:\n",
    "\n",
    "Drop columns which we'll not need for model training and testing."
   ]
  },
  {
   "cell_type": "code",
   "execution_count": null,
   "metadata": {},
   "outputs": [],
   "source": [
    "sns.countplot(data=df_train_copy, x='Age_group_code', hue='Transported')\n",
    "plt.title('Count of Passengers Transported by Age Group')\n",
    "plt.xlabel('Age Group Code')\n",
    "plt.ylabel('Count')\n",
    "plt.show()"
   ]
  },
  {
   "cell_type": "code",
   "execution_count": null,
   "metadata": {},
   "outputs": [],
   "source": [
    "sns.countplot(data=df_train_copy, x='Age', hue='Transported')\n",
    "plt.title('Count of Passengers Transported by Age Group')\n",
    "plt.xlabel('Age Group Code')\n",
    "plt.ylabel('Count')\n",
    "plt.show()"
   ]
  },
  {
   "cell_type": "code",
   "execution_count": null,
   "metadata": {},
   "outputs": [],
   "source": [
    "for name, data in datas:\n",
    "    for column in ['RoomService', 'FoodCourt', 'ShoppingMall', 'Spa', 'VRDeck']:\n",
    "        print(f\"\\n{name}:\")\n",
    "        print(f\"\\n{column} correlation with Expense:\\t\", (data[column].corr(data[\"Expense\"])))\n",
    "        print(f\"\\n{column} correlation with No_Expense:\\t\", (data[column].corr(data[\"No_Expense\"])))"
   ]
  }
 ],
 "metadata": {
  "language_info": {
   "name": "python"
  }
 },
 "nbformat": 4,
 "nbformat_minor": 2
}
