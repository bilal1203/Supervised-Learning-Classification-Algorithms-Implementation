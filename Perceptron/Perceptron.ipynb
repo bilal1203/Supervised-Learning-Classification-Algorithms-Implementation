{
 "cells": [
  {
   "cell_type": "code",
   "execution_count": 49,
   "metadata": {},
   "outputs": [],
   "source": [
    "import pandas as pd\n",
    "import numpy as np\n",
    "import scipy as sp\n",
    "import sklearn\n",
    "import random\n",
    "import time\n",
    "\n",
    "from sklearn.linear_model import Perceptron\n",
    "\n",
    "from sklearn.model_selection import KFold, cross_validate\n",
    "from sklearn import metrics\n",
    "\n",
    "import matplotlib as mpl\n",
    "import matplotlib.pyplot as plt\n",
    "import matplotlib.pylab as pylab\n",
    "import seaborn as sns\n",
    "\n",
    "mpl.style.use('ggplot')\n",
    "sns.set_style('white')"
   ]
  },
  {
   "cell_type": "code",
   "execution_count": 50,
   "metadata": {},
   "outputs": [],
   "source": [
    "df_train_copy = pd.read_csv('../datasets/raw_datasets/df_train_copy_preprocessed.csv')\n",
    "df_test = pd.read_csv('../datasets/raw_datasets/df_test_preprocessed.csv')\n",
    "X_train = pd.read_csv('../datasets/raw_datasets/X_train.csv')\n",
    "X_val = pd.read_csv('../datasets/raw_datasets/X_val.csv')\n",
    "y_train = pd.read_csv('../datasets/raw_datasets/y_train.csv')\n",
    "y_val = pd.read_csv('../datasets/raw_datasets/y_val.csv')"
   ]
  },
  {
   "cell_type": "code",
   "execution_count": 51,
   "metadata": {},
   "outputs": [],
   "source": [
    "# Training Features\n",
    "features = ['Age', 'RoomService', 'FoodCourt', 'ShoppingMall', 'Spa', 'VRDeck', 'Group',\n",
    "       'Cabin_number', 'HomePlanet_Earth', 'HomePlanet_Europa', 'HomePlanet_Mars',\n",
    "       'CryoSleep_False', 'CryoSleep_True', 'Destination_55 Cancri e',\n",
    "       'Destination_PSO J318.5-22', 'Destination_TRAPPIST-1e', 'VIP_False',\n",
    "       'VIP_True', 'Cabin_deck_A', 'Cabin_deck_B', 'Cabin_deck_C',\n",
    "       'Cabin_deck_D', 'Cabin_deck_E', 'Cabin_deck_F', 'Cabin_deck_G',\n",
    "       'Cabin_deck_T', 'Cabin_side_P', 'Cabin_side_S']"
   ]
  },
  {
   "cell_type": "code",
   "execution_count": 52,
   "metadata": {},
   "outputs": [],
   "source": [
    "model = Perceptron()\n",
    "\n",
    "kf = KFold(n_splits=10, shuffle=True, random_state=619)\n",
    "cv_results = cross_validate(model, df_train_copy[features], df_train_copy[\"Transported\"], cv=kf, return_train_score=True )\n",
    "\n",
    "model_time = cv_results['fit_time'].mean()\n",
    "model_train_accuracy_mean = cv_results['train_score'].mean()\n",
    "model_test_accuracy_mean = cv_results['test_score'].mean()"
   ]
  },
  {
   "cell_type": "code",
   "execution_count": 53,
   "metadata": {},
   "outputs": [
    {
     "name": "stdout",
     "output_type": "stream",
     "text": [
      "0.016804766654968262\n",
      "0.5119959265544654\n",
      "0.5155845667499966\n"
     ]
    }
   ],
   "source": [
    "print(model_time)\n",
    "print(model_train_accuracy_mean)\n",
    "print(model_test_accuracy_mean)"
   ]
  },
  {
   "cell_type": "code",
   "execution_count": 54,
   "metadata": {},
   "outputs": [
    {
     "name": "stdout",
     "output_type": "stream",
     "text": [
      "0.49640494679321256\n",
      "0.496262219666475\n"
     ]
    },
    {
     "name": "stderr",
     "output_type": "stream",
     "text": [
      "/home/ahmad/miniconda3/envs/github_classification/lib/python3.12/site-packages/sklearn/utils/validation.py:1300: DataConversionWarning: A column-vector y was passed when a 1d array was expected. Please change the shape of y to (n_samples, ), for example using ravel().\n",
      "  y = column_or_1d(y, warn=True)\n"
     ]
    }
   ],
   "source": [
    "model.fit(X_train, y_train)\n",
    "\n",
    "pred_train = model.predict(X_train)\n",
    "pred_test = model.predict(X_val)\n",
    "\n",
    "score_train = metrics.accuracy_score(y_train, pred_train)\n",
    "score_test = metrics.accuracy_score(y_val, pred_test)\n",
    "\n",
    "print(score_train)\n",
    "print(score_test)"
   ]
  }
 ],
 "metadata": {
  "kernelspec": {
   "display_name": "github_classification",
   "language": "python",
   "name": "python3"
  },
  "language_info": {
   "codemirror_mode": {
    "name": "ipython",
    "version": 3
   },
   "file_extension": ".py",
   "mimetype": "text/x-python",
   "name": "python",
   "nbconvert_exporter": "python",
   "pygments_lexer": "ipython3",
   "version": "3.12.2"
  }
 },
 "nbformat": 4,
 "nbformat_minor": 2
}
